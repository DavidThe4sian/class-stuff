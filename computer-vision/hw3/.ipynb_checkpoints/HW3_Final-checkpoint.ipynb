{
 "cells": [
  {
   "cell_type": "code",
   "execution_count": 2,
   "metadata": {},
   "outputs": [],
   "source": [
    "import os\n",
    "import numpy as np\n",
    "import cv2\n",
    "import math\n",
    "import matplotlib.pyplot as plt\n",
    "from sklearn.neighbors import KNeighborsClassifier\n",
    "from sklearn.neighbors import NearestNeighbors\n",
    "from sklearn.cluster import KMeans\n",
    "from sklearn.svm import LinearSVC\n",
    "from sklearn.metrics import accuracy_score\n",
    "from sklearn.metrics import confusion_matrix\n",
    "from scipy import stats\n",
    "from pathlib import Path, PureWindowsPath"
   ]
  },
  {
   "cell_type": "code",
   "execution_count": 3,
   "metadata": {},
   "outputs": [],
   "source": [
    "def extract_dataset_info(data_path):\n",
    "    # extract information from train.txt\n",
    "    f = open(os.path.join(data_path, \"train.txt\"), \"r\")\n",
    "    contents_train = f.readlines()\n",
    "    label_classes, label_train_list, img_train_list = [], [], []\n",
    "    for sample in contents_train:\n",
    "        sample = sample.split()\n",
    "        label, img_path = sample[0], sample[1]\n",
    "        if label not in label_classes:\n",
    "            label_classes.append(label)\n",
    "        label_train_list.append(sample[0])\n",
    "        img_train_list.append(os.path.join(data_path, Path(PureWindowsPath(img_path))))\n",
    "    print('Classes: {}'.format(label_classes))\n",
    "\n",
    "    # extract information from test.txt\n",
    "    f = open(os.path.join(data_path, \"test.txt\"), \"r\")\n",
    "    contents_test = f.readlines()\n",
    "    label_test_list, img_test_list = [], []\n",
    "    for sample in contents_test:\n",
    "        sample = sample.split()\n",
    "        label, img_path = sample[0], sample[1]\n",
    "        label_test_list.append(label)\n",
    "        img_test_list.append(os.path.join(data_path, Path(PureWindowsPath(img_path))))  # you can directly use img_path if you run in Windows\n",
    "\n",
    "    return label_classes, label_train_list, img_train_list, label_test_list, img_test_list"
   ]
  },
  {
   "cell_type": "code",
   "execution_count": 4,
   "metadata": {},
   "outputs": [],
   "source": [
    "def visualize_confusion_matrix(confusion, accuracy, label_classes):\n",
    "    plt.title(\"accuracy = {:.3f}\".format(accuracy))\n",
    "    plt.imshow(confusion)\n",
    "    ax, fig = plt.gca(), plt.gcf()\n",
    "    plt.xticks(np.arange(len(label_classes)), label_classes)\n",
    "    plt.yticks(np.arange(len(label_classes)), label_classes)\n",
    "    # set horizontal alignment mode (left, right or center) and rotation mode(anchor or default)\n",
    "    plt.setp(ax.get_xticklabels(), rotation=-30, ha=\"center\", rotation_mode=\"default\")\n",
    "    # avoid top and bottom part of heatmap been cut\n",
    "    ax.set_xticks(np.arange(len(label_classes) + 1) - .5, minor=True)\n",
    "    ax.set_yticks(np.arange(len(label_classes) + 1) - .5, minor=True)\n",
    "    ax.tick_params(which=\"minor\", bottom=False, left=False)\n",
    "    fig.tight_layout()\n",
    "    plt.show()"
   ]
  },
  {
   "cell_type": "code",
   "execution_count": 5,
   "metadata": {},
   "outputs": [],
   "source": [
    "def get_tiny_image(img, output_size):\n",
    "    h, w = np.shape(img)\n",
    "    new_w, new_h = output_size\n",
    "    num_w = int(w/new_w)\n",
    "    num_h = int(h/new_h)\n",
    "    # edge cases for if the new sizes are not a factor of the initial sizes\n",
    "    extra_w = w%new_w\n",
    "    extra_h = h%new_h\n",
    "    \n",
    "    feature = np.zeros((new_h, new_w))\n",
    "    plt.imshow(feature)\n",
    "    \n",
    "    # tracking intensity and pixels to average them out later\n",
    "    tot_tot_intensity = 0\n",
    "    tot_counter = 0\n",
    "    x_pos = 0\n",
    "    y_pos = 0\n",
    "    \n",
    "    # iterating across new tiny image\n",
    "    for i in range(new_w):\n",
    "        y_pos = 0\n",
    "        for j in range(new_h):\n",
    "            counter = 0\n",
    "            tot_intensity = 0\n",
    "            \n",
    "            # seeing if extra pixels need to be factored in\n",
    "            if i < extra_w-1:\n",
    "                w_range = num_w+1\n",
    "            else:\n",
    "                w_range = num_w\n",
    "            if j < extra_h-1:\n",
    "                h_range = num_h+1\n",
    "            else:\n",
    "                h_range = num_h\n",
    "                \n",
    "            # iterating across corresponding sections of original image\n",
    "            for m in range(x_pos, x_pos+w_range):\n",
    "                for n in range(y_pos, y_pos+h_range):\n",
    "                    counter += 1\n",
    "                    tot_intensity += img[n, m]\n",
    "                    tot_counter += 1\n",
    "                    tot_tot_intensity += img[n, m]\n",
    "            average = tot_intensity/counter\n",
    "            feature[j, i] = average\n",
    "            y_pos += h_range\n",
    "        x_pos += w_range\n",
    "\n",
    "    # getting mean of image to normalize and normalizing\n",
    "    true_mean = tot_tot_intensity/tot_counter\n",
    "    norm = 0\n",
    "    for i in range(new_w):\n",
    "        for j in range(new_h):\n",
    "            feature[j,i] -= true_mean\n",
    "            norm += feature[j,i]**2\n",
    "    norm = math.sqrt(norm)\n",
    "    for i in range(new_h):\n",
    "        for j in range(new_h):\n",
    "            feature[j,i] = feature[j,i]/norm\n",
    "\n",
    "    return feature"
   ]
  },
  {
   "cell_type": "code",
   "execution_count": 9,
   "metadata": {},
   "outputs": [],
   "source": [
    "def predict_knn(feature_train, label_train, feature_test, k):\n",
    "    nbrs = KNeighborsClassifier(n_neighbors=k, algorithm='auto')\\\n",
    "    .fit(feature_train, label_train)\n",
    "\n",
    "    label_test_pred = nbrs.predict(feature_test)\n",
    "    \n",
    "    return label_test_pred\n"
   ]
  },
  {
   "cell_type": "code",
   "execution_count": 13,
   "metadata": {},
   "outputs": [],
   "source": [
    "def classify_knn_tiny(label_classes, label_train_list, img_train_list, label_test_list, img_test_list):\n",
    "    \n",
    "    feature_train = []\n",
    "    feature_test = []\n",
    "\n",
    "    # iterating through img train list and getting tiny image features\n",
    "    for x in img_train_list:\n",
    "        img = cv2.imread(x, cv2.IMREAD_GRAYSCALE)\n",
    "        new_img = get_tiny_image(img, (16,16))\n",
    "        flattened = np.ndarray.flatten(new_img)\n",
    "        feature_train.append(flattened)\n",
    "\n",
    "    # iterating through test list and getting tiny image features\n",
    "    for x in img_test_list:\n",
    "        img = cv2.imread(x, cv2.IMREAD_GRAYSCALE)\n",
    "        new_img = get_tiny_image(img, (16,16))\n",
    "        flattened = np.ndarray.flatten(new_img)\n",
    "        feature_test.append(flattened)\n",
    "    \n",
    "    label_test_pred = predict_knn(feature_train, label_train_list, feature_test, 5)\n",
    "    confusion = confusion_matrix(label_test_list, label_test_pred)\n",
    "    accuracy = accuracy_score(label_test_list, label_test_pred)\n",
    "    visualize_confusion_matrix(confusion, accuracy, label_classes)\n",
    "    return confusion, accuracy\n"
   ]
  },
  {
   "cell_type": "code",
   "execution_count": 14,
   "metadata": {},
   "outputs": [
    {
     "name": "stdout",
     "output_type": "stream",
     "text": [
      "Classes: ['Kitchen', 'Store', 'Bedroom', 'LivingRoom', 'Office', 'Industrial', 'Suburb', 'InsideCity', 'TallBuilding', 'Street', 'Highway', 'OpenCountry', 'Coast', 'Mountain', 'Forest']\n"
     ]
    }
   ],
   "source": [
    "label_classes, label_train_list, img_train_list, label_test_list, img_test_list = extract_dataset_info('./scene_classification_data')"
   ]
  },
  {
   "cell_type": "code",
   "execution_count": 16,
   "metadata": {
    "scrolled": true
   },
   "outputs": [
    {
     "data": {
      "image/png": "[encoded data removed]",
      "text/plain": [
       "<Figure size 432x288 with 1 Axes>"
      ]
     },
     "metadata": {
      "needs_background": "light"
     },
     "output_type": "display_data"
    }
   ],
   "source": [
    "confusion, accuracy = classify_knn_tiny(label_classes, label_train_list, \\\n",
    "                                       img_train_list, label_test_list, \\\n",
    "                                       img_test_list)\n"
   ]
  },
  {
   "cell_type": "code",
   "execution_count": 18,
   "metadata": {},
   "outputs": [],
   "source": [
    "def compute_dsift(img, stride, size):\n",
    "    sift = cv2.xfeatures2d.SIFT_create()\n",
    "    keypoints = []\n",
    "    h, w = np.shape(img)\n",
    "    x = stride\n",
    "    y = stride\n",
    "    dense_feature = []\n",
    "    \n",
    "    # iterate through image and store keypoints\n",
    "    while x < w:\n",
    "        y = stride\n",
    "        while y < h:\n",
    "            keypoints.append(cv2.KeyPoint(x, y, size))\n",
    "            y += stride\n",
    "        x += stride\n",
    "    \n",
    "    dense_feature = sift.compute(img, keypoints)[1]\n",
    "        \n",
    "    return dense_feature"
   ]
  },
  {
   "cell_type": "code",
   "execution_count": 20,
   "metadata": {},
   "outputs": [],
   "source": [
    "def build_visual_dictionary(dense_feature_list, dic_size):\n",
    "    kmeans = KMeans(n_clusters=dic_size, n_init=10, max_iter=20).fit(dense_feature_list)\n",
    "    vocab = kmeans.cluster_centers_\n",
    "    return vocab"
   ]
  },
  {
   "cell_type": "code",
   "execution_count": 21,
   "metadata": {},
   "outputs": [],
   "source": [
    "def compute_bow(feature, vocab):\n",
    "    bow_feature = np.zeros((np.shape(vocab)[0]))\n",
    "    nbrs = NearestNeighbors(n_neighbors=1).fit(vocab)\n",
    "    \n",
    "    for i in feature:\n",
    "        distances, indices = nbrs.kneighbors(i.reshape(1,-1))\n",
    "        bow_feature[indices] += 1\n",
    "\n",
    "    # normalizing bow_feature\n",
    "    bow_feature = bow_feature/np.linalg.norm(bow_feature)\n",
    "\n",
    "    return bow_feature"
   ]
  },
  {
   "cell_type": "code",
   "execution_count": 28,
   "metadata": {},
   "outputs": [],
   "source": [
    "def classify_knn_bow(label_classes, label_train_list, img_train_list, label_test_list, img_test_list):\n",
    "    \n",
    "    dense_feature_list = []\n",
    "\n",
    "    # extracting pool of all features\n",
    "    for x in img_train_list:\n",
    "        temp_img = cv2.imread(x, cv2.IMREAD_GRAYSCALE)\n",
    "        dense_feature = compute_dsift(temp_img, 16, 16)\n",
    "        for i in dense_feature:\n",
    "            dense_feature_list.append(i)\n",
    "            \n",
    "    # building visual dictionary\n",
    "    centers = build_visual_dictionary(dense_feature_list, 100)\n",
    "    np.savetxt('16x16centers_2.1_knn15_100dic_final.txt', centers)\n",
    "    \n",
    "#     centers = np.loadtxt('16x16centers_2.1_knn15_100dic_final.txt')\n",
    "    \n",
    "    feature_train = []\n",
    "    feature_test = []\n",
    "    \n",
    "    # getting list of BoW histograms for training set\n",
    "    for x in img_train_list:\n",
    "        temp_img = cv2.imread(x, cv2.IMREAD_GRAYSCALE)\n",
    "        feature = compute_dsift(temp_img, 16, 16)\n",
    "        bow = compute_bow(feature, centers)\n",
    "        feature_train.append(bow)\n",
    "    feature_train = np.array(feature_train)\n",
    "\n",
    "    # getting list of BoW histograms for test set\n",
    "    for x in img_test_list:\n",
    "        temp_img = cv2.imread(x, cv2.IMREAD_GRAYSCALE)\n",
    "        feature = compute_dsift(temp_img, 16, 16)\n",
    "        bow = compute_bow(feature, centers)\n",
    "        feature_test.append(bow)\n",
    "    feature_test = np.array(feature_test)\n",
    "\n",
    "    label_test_pred = predict_knn(feature_train, label_train_list, feature_test, 15)\n",
    "    confusion = confusion_matrix(label_test_list, label_test_pred)\n",
    "    accuracy = accuracy_score(label_test_list, label_test_pred)\n",
    "    visualize_confusion_matrix(confusion, accuracy, label_classes)\n",
    "    return confusion, accuracy"
   ]
  },
  {
   "cell_type": "code",
   "execution_count": 29,
   "metadata": {},
   "outputs": [
    {
     "data": {
      "image/png": "[encoded data removed]",
      "text/plain": [
       "<Figure size 432x288 with 1 Axes>"
      ]
     },
     "metadata": {
      "needs_background": "light"
     },
     "output_type": "display_data"
    }
   ],
   "source": [
    "confusion, accuracy = classify_knn_bow(label_classes, label_train_list, \\\n",
    "                                       img_train_list, label_test_list, \\\n",
    "                                       img_test_list)"
   ]
  },
  {
   "cell_type": "code",
   "execution_count": 31,
   "metadata": {},
   "outputs": [],
   "source": [
    "def predict_svm(feature_train, label_train, feature_test): \n",
    "    \n",
    "    # switching all the labels to binary,\n",
    "    # labels is list of 15 binary labelled sets\n",
    "    labels = []\n",
    "    \n",
    "    for i in range(np.shape(label_classes)[0]):\n",
    "        target_string = label_classes[i]\n",
    "        binary_label = []\n",
    "        for j in range(np.shape(label_train)[0]):\n",
    "            if label_train[j] == target_string:\n",
    "                binary_label.append(True)\n",
    "            else:\n",
    "                binary_label.append(False)\n",
    "        labels.append(binary_label)\n",
    "        \n",
    "        \n",
    "    # training 15 classifiers\n",
    "    classifiers = []\n",
    "    for i in range(np.shape(label_classes)[0]):\n",
    "        new_classifier = LinearSVC(C=1, max_iter=5000, tol=1e-3)\n",
    "        new_classifier.fit(feature_train, labels[i])\n",
    "        classifiers.append(new_classifier)\n",
    "\n",
    "    # getting best prediction out of 15 classifiers for each test sample\n",
    "    label_test_pred = []\n",
    "    for i in range(np.shape(feature_test)[0]):\n",
    "        predictions = []\n",
    "        for j in range(np.shape(classifiers)[0]):\n",
    "            confidence = classifiers[j].decision_function(feature_test[i].reshape(1,-1))\n",
    "            predictions.append(confidence)\n",
    "        label_test_pred.append(label_classes[np.argmax(predictions)])\n",
    "            \n",
    "    label_test_pred = np.array(label_test_pred)\n",
    "    return label_test_pred"
   ]
  },
  {
   "cell_type": "code",
   "execution_count": 34,
   "metadata": {},
   "outputs": [],
   "source": [
    "def classify_svm_bow(label_classes, label_train_list, img_train_list, label_test_list, img_test_list):\n",
    "    dense_feature_list = []\n",
    "\n",
    "    # extracting pool of all features\n",
    "    for x in img_train_list:\n",
    "        temp_img = cv2.imread(x, cv2.IMREAD_GRAYSCALE)\n",
    "        dense_feature = compute_dsift(temp_img, 16, 16)\n",
    "        for i in dense_feature:\n",
    "            dense_feature_list.append(i)\n",
    "            \n",
    "    # building visual dictionary\n",
    "    centers = build_visual_dictionary(dense_feature_list, 100)\n",
    "    np.savetxt('16x16centers_2.1_knn15_100dic_final.txt', centers)\n",
    "    \n",
    "#     centers = np.loadtxt('16x16centers_2.1_knn15_100dic_final.txt')\n",
    "    \n",
    "    feature_train = []\n",
    "    feature_test = []\n",
    "    \n",
    "    # getting list of BoW histograms for training set\n",
    "    for x in img_train_list:\n",
    "        temp_img = cv2.imread(x, cv2.IMREAD_GRAYSCALE)\n",
    "        feature = compute_dsift(temp_img, 16, 16)\n",
    "        bow = compute_bow(feature, centers)\n",
    "        feature_train.append(bow)\n",
    "    feature_train = np.array(feature_train)\n",
    "\n",
    "    # getting list of BoW histograms for test set\n",
    "    for x in img_test_list:\n",
    "        temp_img = cv2.imread(x, cv2.IMREAD_GRAYSCALE)\n",
    "        feature = compute_dsift(temp_img, 16, 16)\n",
    "        bow = compute_bow(feature, centers)\n",
    "        feature_test.append(bow)\n",
    "    feature_test = np.array(feature_test)\n",
    "    \n",
    "    label_test_pred = predict_svm(feature_train, label_train_list, feature_test)\n",
    "    confusion = confusion_matrix(label_test_list, label_test_pred)\n",
    "    accuracy = accuracy_score(label_test_list, label_test_pred)\n",
    "    visualize_confusion_matrix(confusion, accuracy, label_classes)\n",
    "    return confusion, accuracy"
   ]
  },
  {
   "cell_type": "code",
   "execution_count": 35,
   "metadata": {
    "scrolled": false
   },
   "outputs": [
    {
     "data": {
      "image/png": "[encoded data removed]",
      "text/plain": [
       "<Figure size 432x288 with 1 Axes>"
      ]
     },
     "metadata": {
      "needs_background": "light"
     },
     "output_type": "display_data"
    }
   ],
   "source": [
    "confusion, accuracy = classify_svm_bow(label_classes, label_train_list, \\\n",
    "                                       img_train_list, label_test_list, \\\n",
    "                                       img_test_list)"
   ]
  }
 ],
 "metadata": {
  "kernelspec": {
   "display_name": "Python 3",
   "language": "python",
   "name": "python3"
  },
  "language_info": {
   "codemirror_mode": {
    "name": "ipython",
    "version": 3
   },
   "file_extension": ".py",
   "mimetype": "text/x-python",
   "name": "python",
   "nbconvert_exporter": "python",
   "pygments_lexer": "ipython3",
   "version": "3.6.7"
  }
 },
 "nbformat": 4,
 "nbformat_minor": 4
}
