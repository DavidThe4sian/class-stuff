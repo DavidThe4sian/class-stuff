{
 "cells": [
  {
   "cell_type": "code",
   "execution_count": 0,
   "metadata": {
    "colab": {},
    "colab_type": "code",
    "id": "kx3kUCRNzpY6"
   },
   "outputs": [],
   "source": [
    "import os\n",
    "import numpy as np\n",
    "import cv2\n",
    "import matplotlib.pyplot as plt\n",
    "from sklearn.neighbors import NearestNeighbors\n",
    "from sklearn.cluster import KMeans\n",
    "from sklearn.svm import LinearSVC\n",
    "from scipy import stats\n",
    "from pathlib import Path, PureWindowsPath\n",
    "\n",
    "\n",
    "def extract_dataset_info(data_path):\n",
    "    # extract information from train.txt\n",
    "    f = open(os.path.join(data_path, \"train.txt\"), \"r\")\n",
    "    contents_train = f.readlines()\n",
    "    label_classes, label_train_list, img_train_list = [], [], []\n",
    "    for sample in contents_train:\n",
    "        sample = sample.split()\n",
    "        label, img_path = sample[0], sample[1]\n",
    "        if label not in label_classes:\n",
    "            label_classes.append(label)\n",
    "        label_train_list.append(sample[0])\n",
    "        img_train_list.append(os.path.join(data_path, Path(PureWindowsPath(img_path))))\n",
    "    print('Classes: {}'.format(label_classes))\n",
    "\n",
    "    # extract information from test.txt\n",
    "    f = open(os.path.join(data_path, \"test.txt\"), \"r\")\n",
    "    contents_test = f.readlines()\n",
    "    label_test_list, img_test_list = [], []\n",
    "    for sample in contents_test:\n",
    "        sample = sample.split()\n",
    "        label, img_path = sample[0], sample[1]\n",
    "        label_test_list.append(label)\n",
    "        img_test_list.append(os.path.join(data_path, Path(PureWindowsPath(img_path))))  # you can directly use img_path if you run in Windows\n",
    "\n",
    "    return label_classes, label_train_list, img_train_list, label_test_list, img_test_list\n",
    "\n",
    "\n",
    "# def compute_dsift(img):\n",
    "#     # To do\n",
    "#     return dense_feature\n",
    "\n",
    "\n",
    "# def get_tiny_image(img, output_size):\n",
    "#     # To do\n",
    "#     return feature\n",
    "\n",
    "\n",
    "# def predict_knn(feature_train, label_train, feature_test, k):\n",
    "#     # To do\n",
    "#     return label_test_pred\n",
    "\n",
    "\n",
    "# def classify_knn_tiny(label_classes, label_train_list, img_train_list, label_test_list, img_test_list):\n",
    "#     # To do\n",
    "#     visualize_confusion_matrix(confusion, accuracy, label_classes)\n",
    "#     return confusion, accuracy\n",
    "\n",
    "\n",
    "# def build_visual_dictionary(dense_feature_list, dic_size):\n",
    "#     # To do\n",
    "#     return vocab\n",
    "\n",
    "\n",
    "# def compute_bow(feature, vocab):\n",
    "#     # To do\n",
    "#     return bow_feature\n",
    "\n",
    "\n",
    "# def classify_knn_bow(label_classes, label_train_list, img_train_list, label_test_list, img_test_list):\n",
    "#     # To do\n",
    "#     visualize_confusion_matrix(confusion, accuracy, label_classes)\n",
    "#     return confusion, accuracy\n",
    "\n",
    "\n",
    "# def predict_svm(feature_train, label_train, feature_test, n_classes):\n",
    "#     # To do\n",
    "#     return label_test_pred\n",
    "\n",
    "\n",
    "# def classify_svm_bow(label_classes, label_train_list, img_train_list, label_test_list, img_test_list):\n",
    "#     # To do\n",
    "#     visualize_confusion_matrix(confusion, accuracy, label_classes)\n",
    "#     return confusion, accuracy\n",
    "\n",
    "\n",
    "def visualize_confusion_matrix(confusion, accuracy, label_classes):\n",
    "    plt.title(\"accuracy = {:.3f}\".format(accuracy))\n",
    "    plt.imshow(confusion)\n",
    "    ax, fig = plt.gca(), plt.gcf()\n",
    "    plt.xticks(np.arange(len(label_classes)), label_classes)\n",
    "    plt.yticks(np.arange(len(label_classes)), label_classes)\n",
    "    # set horizontal alignment mode (left, right or center) and rotation mode(anchor or default)\n",
    "    plt.setp(ax.get_xticklabels(), rotation=-30, ha=\"center\", rotation_mode=\"default\")\n",
    "    # avoid top and bottom part of heatmap been cut\n",
    "    ax.set_xticks(np.arange(len(label_classes) + 1) - .5, minor=True)\n",
    "    ax.set_yticks(np.arange(len(label_classes) + 1) - .5, minor=True)\n",
    "    ax.tick_params(which=\"minor\", bottom=False, left=False)\n",
    "    fig.tight_layout()\n",
    "    plt.show()\n",
    "\n",
    "\n",
    "# if __name__ == '__main__':\n",
    "#     # To do: replace with your dataset path\n",
    "#     label_classes, label_train_list, img_train_list, label_test_list, img_test_list = extract_dataset_info(\"./scene_classification_data\")\n",
    "    \n",
    "#     classify_knn_tiny(label_classes, label_train_list, img_train_list, label_test_list, img_test_list)\n",
    "\n",
    "#     classify_knn_bow(label_classes, label_train_list, img_train_list, label_test_list, img_test_list)\n",
    "    \n",
    "#     classify_svm_bow(label_classes, label_train_list, img_train_list, label_test_list, img_test_list)"
   ]
  },
  {
   "cell_type": "code",
   "execution_count": 0,
   "metadata": {
    "colab": {},
    "colab_type": "code",
    "id": "-qzQbPzA0mCv"
   },
   "outputs": [],
   "source": [
    "import os\n",
    "import numpy as np\n",
    "import cv2\n",
    "import matplotlib.pyplot as plt\n",
    "from sklearn.neighbors import NearestNeighbors\n",
    "from sklearn.cluster import KMeans\n",
    "from sklearn.svm import LinearSVC\n",
    "from scipy import stats\n",
    "from pathlib import Path, PureWindowsPath\n",
    "from google.colab.patches import cv2_imshow\n",
    "import matplotlib\n",
    "import sklearn\n",
    "from sklearn.neighbors import KNeighborsClassifier"
   ]
  },
  {
   "cell_type": "code",
   "execution_count": 18,
   "metadata": {
    "colab": {
     "base_uri": "https://localhost:8080/",
     "height": 532
    },
    "colab_type": "code",
    "id": "bCVG4eQC05K6",
    "outputId": "5541227c-3b23-418d-e081-89ae0d62394b"
   },
   "outputs": [
    {
     "name": "stdout",
     "output_type": "stream",
     "text": [
      "Collecting opencv-python==3.4.2.16\n",
      "\u001b[?25l  Downloading https://files.pythonhosted.org/packages/fa/7d/5042b668a8ed41d2a80b8c172f5efcd572e3c046c75ae029407e19b7fc68/opencv_python-3.4.2.16-cp36-cp36m-manylinux1_x86_64.whl (25.0MB)\n",
      "\u001b[K     |████████████████████████████████| 25.0MB 69.6MB/s \n",
      "\u001b[?25hRequirement already satisfied: numpy>=1.11.3 in /usr/local/lib/python3.6/dist-packages (from opencv-python==3.4.2.16) (1.18.2)\n",
      "\u001b[31mERROR: albumentations 0.1.12 has requirement imgaug<0.2.7,>=0.2.5, but you'll have imgaug 0.2.9 which is incompatible.\u001b[0m\n",
      "Installing collected packages: opencv-python\n",
      "  Found existing installation: opencv-python 4.1.2.30\n",
      "    Uninstalling opencv-python-4.1.2.30:\n",
      "      Successfully uninstalled opencv-python-4.1.2.30\n",
      "Successfully installed opencv-python-3.4.2.16\n"
     ]
    },
    {
     "data": {
      "application/vnd.colab-display-data+json": {
       "pip_warning": {
        "packages": [
         "cv2"
        ]
       }
      }
     },
     "metadata": {
      "tags": []
     },
     "output_type": "display_data"
    },
    {
     "name": "stdout",
     "output_type": "stream",
     "text": [
      "Collecting opencv-contrib-python==3.4.2.16\n",
      "\u001b[?25l  Downloading https://files.pythonhosted.org/packages/08/f1/66330f4042c4fb3b2d77a159db8e8916d9cdecc29bc8c1f56bc7f8a9bec9/opencv_contrib_python-3.4.2.16-cp36-cp36m-manylinux1_x86_64.whl (30.6MB)\n",
      "\u001b[K     |████████████████████████████████| 30.6MB 147kB/s \n",
      "\u001b[?25hRequirement already satisfied: numpy>=1.11.3 in /usr/local/lib/python3.6/dist-packages (from opencv-contrib-python==3.4.2.16) (1.18.2)\n",
      "Installing collected packages: opencv-contrib-python\n",
      "  Found existing installation: opencv-contrib-python 4.1.2.30\n",
      "    Uninstalling opencv-contrib-python-4.1.2.30:\n",
      "      Successfully uninstalled opencv-contrib-python-4.1.2.30\n",
      "Successfully installed opencv-contrib-python-3.4.2.16\n"
     ]
    },
    {
     "data": {
      "application/vnd.colab-display-data+json": {
       "pip_warning": {
        "packages": [
         "cv2"
        ]
       }
      }
     },
     "metadata": {
      "tags": []
     },
     "output_type": "display_data"
    }
   ],
   "source": [
    "# !pip install opencv-python==3.4.2.16\n",
    "# !pip install opencv-contrib-python==3.4.2.16"
   ]
  },
  {
   "cell_type": "code",
   "execution_count": 3,
   "metadata": {
    "colab": {
     "base_uri": "https://localhost:8080/",
     "height": 54
    },
    "colab_type": "code",
    "id": "_K9PXQuS4fEQ",
    "outputId": "4fe20126-5e69-4845-a1ab-3b6c8ba30154"
   },
   "outputs": [
    {
     "name": "stdout",
     "output_type": "stream",
     "text": [
      "Classes: ['Kitchen', 'Store', 'Bedroom', 'LivingRoom', 'Office', 'Industrial', 'Suburb', 'InsideCity', 'TallBuilding', 'Street', 'Highway', 'OpenCountry', 'Coast', 'Mountain', 'Forest']\n"
     ]
    }
   ],
   "source": [
    "data_path = \"drive/My Drive/scene_classification_data\"\n",
    "[label_classes, label_train_list, img_train_list, label_test_list, img_test_list] = extract_dataset_info(data_path)"
   ]
  },
  {
   "cell_type": "code",
   "execution_count": 4,
   "metadata": {
    "colab": {
     "base_uri": "https://localhost:8080/",
     "height": 234
    },
    "colab_type": "code",
    "id": "_cr00Gw6Prry",
    "outputId": "71084608-9372-4e40-e054-ce806e1eee8b"
   },
   "outputs": [
    {
     "name": "stdout",
     "output_type": "stream",
     "text": [
      "drive/My Drive/scene_classification_data/train/Kitchen/image_0001.jpg\n"
     ]
    },
    {
     "data": {
      "image/png": "[encoded data removed]",
      "text/plain": [
       "<PIL.Image.Image image mode=L size=276x200 at 0x7F2F1AA5B588>"
      ]
     },
     "metadata": {
      "tags": []
     },
     "output_type": "display_data"
    }
   ],
   "source": [
    "#delete\n",
    "print(img_train_list[0])\n",
    "img = cv2.imread('drive/My Drive/scene_classification_data/test/Bedroom/image_0003.jpg', cv2.IMREAD_GRAYSCALE)\n",
    "cv2_imshow(img)"
   ]
  },
  {
   "cell_type": "code",
   "execution_count": 5,
   "metadata": {
    "colab": {
     "base_uri": "https://localhost:8080/",
     "height": 266
    },
    "colab_type": "code",
    "id": "8aMfcJBfVwlS",
    "outputId": "2fe4defb-7831-42f7-f9b8-5c0f34da52b0"
   },
   "outputs": [
    {
     "data": {
      "image/png": "[encoded data removed]",
      "text/plain": [
       "<Figure size 432x288 with 1 Axes>"
      ]
     },
     "metadata": {
      "tags": []
     },
     "output_type": "display_data"
    }
   ],
   "source": [
    "def get_tiny_image(img, output_size):\n",
    "    block_size = (img.shape[0]//output_size[0], img.shape[1]//output_size[1])\n",
    "    size = (block_size[0] * output_size[0], block_size[1]*output_size[1])\n",
    "    feature = np.zeros((output_size))\n",
    "    # print(\"bs: \", block_size)\n",
    "    # print(\"os: \", output_size)\n",
    "    # print(\"sz: \", size)\n",
    "    # print(\"oz: \", img.shape)\n",
    "    for i in range(output_size[0]):\n",
    "      for j in range(output_size[1]):\n",
    "        total = 0\n",
    "        for i2 in range(block_size[0]):\n",
    "          for j2 in range(block_size[1]):\n",
    "            total += img[block_size[0]*i+i2,block_size[1]*j+j2]\n",
    "        feature[i,j]= int(total/(block_size[0]*block_size[1]))\n",
    "    return feature\n",
    "\n",
    "###this shit breaks on 30 30\n",
    "plt.imshow(get_tiny_image(img, (30,30)))\n",
    "feature = get_tiny_image(img, (16,16))\n",
    "# feature"
   ]
  },
  {
   "cell_type": "code",
   "execution_count": 0,
   "metadata": {
    "colab": {},
    "colab_type": "code",
    "id": "fpiXSygemxmt"
   },
   "outputs": [],
   "source": [
    "# #Take your feature_train and features_test and figure out the k nearest neighbors. Take the one with the max. \n",
    "\n",
    "# feature_test = feature.reshape(1,256)\n",
    "\n",
    "# feature_train = np.random.randint(0,256,(100,256)).astype(float)\n",
    "# label_train = np.random.randint(1,16,(100))\n",
    "# k = 3\n",
    "\n",
    "# # sortedidx = np.argsort(np.linalg.norm(feature_train-feature_test, axis=1))\n",
    "# # print(label_train[sortedidx])"
   ]
  },
  {
   "cell_type": "code",
   "execution_count": 0,
   "metadata": {
    "colab": {},
    "colab_type": "code",
    "id": "Mzm7PnRD6gXx"
   },
   "outputs": [],
   "source": [
    "import pickle\n",
    "def save_pickle(filename, data):\n",
    "    outfile = open(filename, 'wb')\n",
    "    pickle.dump(data, outfile)\n",
    "    outfile.close()\n",
    "    return print('Data is saved in {}'.format(filename))\n",
    "\n",
    "def load_pickle(filename):\n",
    "    infile = open(filename, 'rb')\n",
    "    data_loaded = pickle.load(infile)\n",
    "    infile.close()\n",
    "    return data_loaded"
   ]
  },
  {
   "cell_type": "code",
   "execution_count": 0,
   "metadata": {
    "colab": {},
    "colab_type": "code",
    "id": "OWz-xFhTtsxD"
   },
   "outputs": [],
   "source": [
    "def predict_knn(feature_train, label_train, feature_test, k):\n",
    "    classifier = KNeighborsClassifier(n_neighbors = k)\n",
    "    classifier.fit(feature_train, label_train)\n",
    "    label_test_pred = classifier.predict(feature_train)\n",
    "    return label_test_pred\n",
    "\n",
    "# predict_knn(feature_train, label_train, feature_test, k)"
   ]
  },
  {
   "cell_type": "code",
   "execution_count": 9,
   "metadata": {
    "colab": {
     "base_uri": "https://localhost:8080/",
     "height": 341
    },
    "colab_type": "code",
    "id": "KzgQxkCBu9BO",
    "outputId": "5b52749b-72b8-4693-9928-fe976cfbf36d"
   },
   "outputs": [
    {
     "ename": "FileNotFoundError",
     "evalue": "ignored",
     "output_type": "error",
     "traceback": [
      "\u001b[0;31m---------------------------------------------------------------------------\u001b[0m",
      "\u001b[0;31mFileNotFoundError\u001b[0m                         Traceback (most recent call last)",
      "\u001b[0;32m<ipython-input-9-635030c475a0>\u001b[0m in \u001b[0;36m<module>\u001b[0;34m()\u001b[0m\n\u001b[1;32m     17\u001b[0m     \u001b[0;32mreturn\u001b[0m \u001b[0mconfusion\u001b[0m\u001b[0;34m,\u001b[0m \u001b[0maccuracy\u001b[0m\u001b[0;34m\u001b[0m\u001b[0;34m\u001b[0m\u001b[0m\n\u001b[1;32m     18\u001b[0m \u001b[0;34m\u001b[0m\u001b[0m\n\u001b[0;32m---> 19\u001b[0;31m \u001b[0mclassify_knn_tiny\u001b[0m\u001b[0;34m(\u001b[0m\u001b[0mlabel_classes\u001b[0m\u001b[0;34m,\u001b[0m \u001b[0mlabel_train_list\u001b[0m\u001b[0;34m,\u001b[0m \u001b[0mimg_train_list\u001b[0m\u001b[0;34m,\u001b[0m \u001b[0mlabel_test_list\u001b[0m\u001b[0;34m,\u001b[0m \u001b[0mimg_test_list\u001b[0m\u001b[0;34m)\u001b[0m\u001b[0;34m\u001b[0m\u001b[0;34m\u001b[0m\u001b[0m\n\u001b[0m",
      "\u001b[0;32m<ipython-input-9-635030c475a0>\u001b[0m in \u001b[0;36mclassify_knn_tiny\u001b[0;34m(label_classes, label_train_list, img_train_list, label_test_list, img_test_list)\u001b[0m\n\u001b[1;32m      7\u001b[0m     \u001b[0;31m#   i+=1\u001b[0m\u001b[0;34m\u001b[0m\u001b[0;34m\u001b[0m\u001b[0;34m\u001b[0m\u001b[0m\n\u001b[1;32m      8\u001b[0m     \u001b[0;31m#   feature_train.append(get_tiny_image(cv2.imread(imgpath, cv2.IMREAD_GRAYSCALE), (16,16)))\u001b[0m\u001b[0;34m\u001b[0m\u001b[0;34m\u001b[0m\u001b[0;34m\u001b[0m\u001b[0m\n\u001b[0;32m----> 9\u001b[0;31m     \u001b[0mfeature_train\u001b[0m \u001b[0;34m=\u001b[0m \u001b[0mload_pickle\u001b[0m\u001b[0;34m(\u001b[0m\u001b[0;34m'tiny0'\u001b[0m\u001b[0;34m)\u001b[0m\u001b[0;34m\u001b[0m\u001b[0;34m\u001b[0m\u001b[0m\n\u001b[0m\u001b[1;32m     10\u001b[0m     \u001b[0mfeature_train\u001b[0m \u001b[0;34m=\u001b[0m \u001b[0mnp\u001b[0m\u001b[0;34m.\u001b[0m\u001b[0marray\u001b[0m\u001b[0;34m(\u001b[0m\u001b[0mfeature_train\u001b[0m\u001b[0;34m)\u001b[0m\u001b[0;34m.\u001b[0m\u001b[0mreshape\u001b[0m\u001b[0;34m(\u001b[0m\u001b[0;36m1500\u001b[0m\u001b[0;34m,\u001b[0m \u001b[0;34m-\u001b[0m\u001b[0;36m1\u001b[0m\u001b[0;34m)\u001b[0m\u001b[0;34m\u001b[0m\u001b[0;34m\u001b[0m\u001b[0m\n\u001b[1;32m     11\u001b[0m \u001b[0;34m\u001b[0m\u001b[0m\n",
      "\u001b[0;32m<ipython-input-7-d6d8bc45b71d>\u001b[0m in \u001b[0;36mload_pickle\u001b[0;34m(filename)\u001b[0m\n\u001b[1;32m      7\u001b[0m \u001b[0;34m\u001b[0m\u001b[0m\n\u001b[1;32m      8\u001b[0m \u001b[0;32mdef\u001b[0m \u001b[0mload_pickle\u001b[0m\u001b[0;34m(\u001b[0m\u001b[0mfilename\u001b[0m\u001b[0;34m)\u001b[0m\u001b[0;34m:\u001b[0m\u001b[0;34m\u001b[0m\u001b[0;34m\u001b[0m\u001b[0m\n\u001b[0;32m----> 9\u001b[0;31m     \u001b[0minfile\u001b[0m \u001b[0;34m=\u001b[0m \u001b[0mopen\u001b[0m\u001b[0;34m(\u001b[0m\u001b[0mfilename\u001b[0m\u001b[0;34m,\u001b[0m \u001b[0;34m'rb'\u001b[0m\u001b[0;34m)\u001b[0m\u001b[0;34m\u001b[0m\u001b[0;34m\u001b[0m\u001b[0m\n\u001b[0m\u001b[1;32m     10\u001b[0m     \u001b[0mdata_loaded\u001b[0m \u001b[0;34m=\u001b[0m \u001b[0mpickle\u001b[0m\u001b[0;34m.\u001b[0m\u001b[0mload\u001b[0m\u001b[0;34m(\u001b[0m\u001b[0minfile\u001b[0m\u001b[0;34m)\u001b[0m\u001b[0;34m\u001b[0m\u001b[0;34m\u001b[0m\u001b[0m\n\u001b[1;32m     11\u001b[0m     \u001b[0minfile\u001b[0m\u001b[0;34m.\u001b[0m\u001b[0mclose\u001b[0m\u001b[0;34m(\u001b[0m\u001b[0;34m)\u001b[0m\u001b[0;34m\u001b[0m\u001b[0;34m\u001b[0m\u001b[0m\n",
      "\u001b[0;31mFileNotFoundError\u001b[0m: [Errno 2] No such file or directory: 'tiny0'"
     ]
    }
   ],
   "source": [
    "def classify_knn_tiny(label_classes, label_train_list, img_train_list, label_test_list, img_test_list):\n",
    "    # i=0\n",
    "    # feature_train = []\n",
    "    # for imgpath in img_train_list:\n",
    "    #   if i%100 == 0:\n",
    "    #     print(i)\n",
    "    #   i+=1\n",
    "    #   feature_train.append(get_tiny_image(cv2.imread(imgpath, cv2.IMREAD_GRAYSCALE), (16,16)))\n",
    "    feature_train = load_pickle('tiny0')\n",
    "    feature_train = np.array(feature_train).reshape(1500, -1)\n",
    "\n",
    "    pred = predict_knn(feature_train, label_train_list, img_test_list, 10)\n",
    "\n",
    "    accuracy = sklearn.metrics.accuracy_score(label_test_list, pred)\n",
    "    confusion = sklearn.metrics.confusion_matrix(label_test_list, pred)\n",
    "    visualize_confusion_matrix(confusion, accuracy, label_classes)\n",
    "    return confusion, accuracy\n",
    "\n",
    "classify_knn_tiny(label_classes, label_train_list, img_train_list, label_test_list, img_test_list)"
   ]
  },
  {
   "cell_type": "code",
   "execution_count": 10,
   "metadata": {
    "colab": {
     "base_uri": "https://localhost:8080/",
     "height": 136
    },
    "colab_type": "code",
    "id": "iMrl0c5oXQYi",
    "outputId": "9437876f-d3c4-46bf-b623-15fab098b4ee"
   },
   "outputs": [
    {
     "data": {
      "text/plain": [
       "array([[  0.,   0.,   0., ...,  89., 144.,  71.],\n",
       "       [  0.,   0.,   0., ...,  65., 147.,  83.],\n",
       "       [  0.,   0.,   0., ...,  69., 133.,  93.],\n",
       "       ...,\n",
       "       [111.,  65.,  91., ...,   0.,   0.,   0.],\n",
       "       [113.,  60.,  86., ...,   0.,   0.,   0.],\n",
       "       [ 99.,  53.,  79., ...,   0.,   0.,   0.]], dtype=float32)"
      ]
     },
     "execution_count": 10,
     "metadata": {
      "tags": []
     },
     "output_type": "execute_result"
    }
   ],
   "source": [
    "stride = 16\n",
    "size = 16\n",
    "\n",
    "def compute_dsift(img, stride, size):\n",
    "    sift = cv2.xfeatures2d.SIFT_create()\n",
    "    keypoints = [cv2.KeyPoint(x, y, size) for y in range(0, img.shape[0], stride)\n",
    "                                          for x in range(0, img.shape[1], stride)]\n",
    "    dense_feature = sift.compute(img, keypoints)[1]\n",
    "    return dense_feature\n",
    "\n",
    "compute_dsift(img, 16, 32)"
   ]
  },
  {
   "cell_type": "code",
   "execution_count": 0,
   "metadata": {
    "colab": {},
    "colab_type": "code",
    "id": "49xzFJiq1EK9"
   },
   "outputs": [],
   "source": [
    "def build_visual_dictionary(dense_feature_list, dic_size):\n",
    "    pool = np.array(dense_feature_list[0])\n",
    "    for i in range(1,len(dense_feature_list)):\n",
    "      pool = np.concatenate((pool, dense_feature_list[i]), axis=0)\n",
    "\n",
    "    model = KMeans(50, max_iter = 20)\n",
    "    model.fit(pool)\n",
    "    vocab = model.cluster_centers_\n",
    "\n",
    "    return vocab\n"
   ]
  },
  {
   "cell_type": "code",
   "execution_count": 0,
   "metadata": {
    "colab": {},
    "colab_type": "code",
    "id": "84fzQ9o-MRgq"
   },
   "outputs": [],
   "source": [
    "def compute_bow(feature, vocab):\n",
    "    classifier = KNeighborsClassifier(n_neighbors = 1)\n",
    "    classifier.fit(vocab, np.arange(50))\n",
    "    pred = classifier.predict(feature)\n",
    "    bow_feature = np.zeros((50))\n",
    "    for i in pred:\n",
    "      bow_feature[i]+=1\n",
    "    bow_feature = bow_feature/len(pred)\n",
    "    return bow_feature"
   ]
  },
  {
   "cell_type": "code",
   "execution_count": 0,
   "metadata": {
    "colab": {},
    "colab_type": "code",
    "id": "LkuKm7vnhZLO"
   },
   "outputs": [],
   "source": [
    "def classify_knn_bow(label_classes, label_train_list, img_train_list, label_test_list, img_test_list):    \n",
    "    i = 0\n",
    "    dense_feature_list = []\n",
    "    for img in img_train_list:\n",
    "      if i%100 == 0:\n",
    "        print(i)\n",
    "      i+= 1\n",
    "      dense_feature_list.append(compute_dsift(cv2.imread(img, cv2.IMREAD_GRAYSCALE), 16, 16))\n",
    "    \n",
    "    vocab = build_visual_dictionary(dense_feature_list, 50)\n",
    "    \n",
    "    train_BoW = []\n",
    "    i = 0\n",
    "    for img in img_train_list:\n",
    "      if i % 100 == 0:\n",
    "        print(i)\n",
    "      \n",
    "      #**comment switch statement\n",
    "      # sifts = compute_dsift(cv2.imread(img, cv2.IMREAD_GRAYSCALE), 16, 16)\n",
    "      # BoW = compute_bow(sifts, vocab)\n",
    "      BoW = compute_bow(dense_feature_list[i], vocab) #**comment this line and uncomment above 2 if things are going wrong\n",
    "      train_BoW.append(BoW)\n",
    "      i+=1\n",
    "    train_BoW = np.array(train_BoW)\n",
    "\n",
    "    test_BoW = []\n",
    "    i = 0\n",
    "    for img in img_test_list:\n",
    "      if i % 100 == 0:\n",
    "        print(i)\n",
    "      i+=1\n",
    "      sifts = compute_dsift(cv2.imread(img, cv2.IMREAD_GRAYSCALE), 16, 16)\n",
    "      BoW = compute_bow(sifts, vocab)\n",
    "      test_BoW.append(BoW)\n",
    "    test_BoW = np.array(test_BoW)\n",
    "\n",
    "    pred = predict_knn(train_BoW, label_train_list, test_BoW,10)\n",
    "    accuracy = sklearn.metrics.accuracy_score(label_test_list, pred)\n",
    "    confusion = sklearn.metrics.confusion_matrix(label_test_list, pred)\n",
    "    visualize_confusion_matrix(confusion, accuracy, label_classes)\n",
    "\n",
    "    return confusion, accuracy"
   ]
  },
  {
   "cell_type": "code",
   "execution_count": 18,
   "metadata": {
    "colab": {
     "base_uri": "https://localhost:8080/",
     "height": 1000
    },
    "colab_type": "code",
    "id": "iRtbfsGBv7Co",
    "outputId": "b60bf9e8-ce4c-4c5a-bc43-647284fb9237"
   },
   "outputs": [
    {
     "name": "stdout",
     "output_type": "stream",
     "text": [
      "0\n",
      "100\n",
      "200\n",
      "300\n",
      "400\n",
      "500\n",
      "600\n",
      "700\n",
      "800\n",
      "900\n",
      "1000\n",
      "1100\n",
      "1200\n",
      "1300\n",
      "1400\n",
      "0\n",
      "100\n",
      "200\n",
      "300\n",
      "400\n",
      "500\n",
      "600\n",
      "700\n",
      "800\n",
      "900\n",
      "1000\n",
      "1100\n",
      "1200\n",
      "1300\n",
      "1400\n",
      "0\n",
      "100\n",
      "200\n",
      "300\n",
      "400\n",
      "500\n",
      "600\n",
      "700\n",
      "800\n",
      "900\n",
      "1000\n",
      "1100\n",
      "1200\n",
      "1300\n",
      "1400\n"
     ]
    },
    {
     "data": {
      "image/png": "[encoded data removed]",
      "text/plain": [
       "<Figure size 432x288 with 1 Axes>"
      ]
     },
     "metadata": {
      "tags": []
     },
     "output_type": "display_data"
    },
    {
     "name": "stdout",
     "output_type": "stream",
     "text": [
      "27.8497767051061\n"
     ]
    }
   ],
   "source": [
    "from time import time\n",
    "start=time()\n",
    "classify_knn_bow(label_classes, label_train_list, img_train_list, label_test_list, img_test_list)\n",
    "stop=time()\n",
    "print((stop-start)/60)"
   ]
  },
  {
   "cell_type": "code",
   "execution_count": 0,
   "metadata": {
    "colab": {},
    "colab_type": "code",
    "id": "RfoaU4nxy_Td"
   },
   "outputs": [],
   "source": []
  }
 ],
 "metadata": {
  "colab": {
   "name": "CSCI5561 A3",
   "provenance": []
  },
  "kernelspec": {
   "display_name": "Python 3",
   "language": "python",
   "name": "python3"
  },
  "language_info": {
   "codemirror_mode": {
    "name": "ipython",
    "version": 3
   },
   "file_extension": ".py",
   "mimetype": "text/x-python",
   "name": "python",
   "nbconvert_exporter": "python",
   "pygments_lexer": "ipython3",
   "version": "3.6.7"
  }
 },
 "nbformat": 4,
 "nbformat_minor": 1
}
