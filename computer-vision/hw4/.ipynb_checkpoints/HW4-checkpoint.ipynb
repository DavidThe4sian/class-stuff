{
 "cells": [
  {
   "cell_type": "code",
   "execution_count": 1,
   "metadata": {},
   "outputs": [],
   "source": [
    "import cv2\n",
    "import numpy as np\n",
    "import os\n",
    "import time\n",
    "import scipy.io as sio\n",
    "import matplotlib.pyplot as plt\n",
    "import math\n",
    "import main_functions as main"
   ]
  },
  {
   "cell_type": "code",
   "execution_count": 2,
   "metadata": {},
   "outputs": [],
   "source": [
    "# main\n",
    "import scipy.io as sio\n",
    "import matplotlib.pyplot as plt\n",
    "import numpy as np\n",
    "# from cnn import get_mini_batch, fc, relu, conv, pool2x2, flattening\n",
    "# from cnn import train_slp_linear, train_slp, train_mlp, train_cnn"
   ]
  },
  {
   "cell_type": "code",
   "execution_count": 3,
   "metadata": {},
   "outputs": [],
   "source": [
    "def visualize_confusion_matrix(confusion, accuracy, label_classes, name):\n",
    "    plt.title(\"{}, accuracy = {:.3f}\".format(name, accuracy))\n",
    "    plt.imshow(confusion)\n",
    "    ax, fig = plt.gca(), plt.gcf()\n",
    "    plt.xticks(np.arange(len(label_classes)), label_classes)\n",
    "    plt.yticks(np.arange(len(label_classes)), label_classes)\n",
    "    ax.set_xticks(np.arange(len(label_classes) + 1) - .5, minor=True)\n",
    "    ax.set_yticks(np.arange(len(label_classes) + 1) - .5, minor=True)\n",
    "    ax.tick_params(which=\"minor\", bottom=False, left=False)\n",
    "    plt.show()\n"
   ]
  },
  {
   "cell_type": "code",
   "execution_count": 4,
   "metadata": {},
   "outputs": [],
   "source": [
    "def get_mini_batch(im_train, label_train, batch_size):\n",
    "    \n",
    "#     print(im_train.shape)\n",
    "#     print(label_train.shape)\n",
    "\n",
    "    labels = []\n",
    "    for i in range(label_train.shape[1]):\n",
    "        if label_train[0][i] not in labels:\n",
    "            labels.append(label_train[0][i])\n",
    "    # TO DO\n",
    "    \n",
    "    indices = np.arange(im_train.shape[1])\n",
    "    np.random.shuffle(indices)\n",
    "    \n",
    "    im_train = im_train.T\n",
    "    label_train = label_train.T\n",
    "    \n",
    "    shuffled_im = im_train[indices]\n",
    "    shuffled_label = label_train[indices]\n",
    "    \n",
    "    i = 0\n",
    "    mini_batch_x = []\n",
    "    mini_batch_y = []\n",
    "#     print(shuffled_im.shape[0])\n",
    "    while i < shuffled_im.shape[0]:\n",
    "        temp_x = []\n",
    "        temp_y = []\n",
    "        for j in range(i, i+batch_size):\n",
    "            if j == shuffled_im.shape[0]:\n",
    "                break\n",
    "            else:\n",
    "                temp_x.append(shuffled_im[j])\n",
    "                temp_label = np.zeros(10)\n",
    "                temp_label[labels.index(shuffled_label[j])] = 1\n",
    "                temp_y.append(temp_label)\n",
    "        i += batch_size\n",
    "        mini_batch_x.append(np.array(temp_x))\n",
    "        mini_batch_y.append(np.array(temp_y))\n",
    "    \n",
    "    mini_batch_x = np.array(mini_batch_x)\n",
    "    mini_batch_y = np.array(mini_batch_y)\n",
    "    \n",
    "#     print(mini_batch_x.shape)\n",
    "#     print(mini_batch_y.shape)\n",
    "        \n",
    "    return mini_batch_x, mini_batch_y"
   ]
  },
  {
   "cell_type": "code",
   "execution_count": 5,
   "metadata": {},
   "outputs": [],
   "source": [
    "def fc(x, w, b):\n",
    "    # TO DO\n",
    "    y = w @ x + b\n",
    "    return y\n"
   ]
  },
  {
   "cell_type": "code",
   "execution_count": 6,
   "metadata": {
    "scrolled": true
   },
   "outputs": [
    {
     "name": "stdout",
     "output_type": "stream",
     "text": [
      "[[6]\n",
      " [6]]\n",
      "(2, 1)\n",
      "[0. 0. 0. 0. 0. 0. 0. 0. 0. 0.]\n"
     ]
    }
   ],
   "source": [
    "x = np.array([[1], [1], [1]])\n",
    "w = np.array([[2,1,1],[1,3,1]])\n",
    "b = np.array([[2],[1]])\n",
    "\n",
    "print(fc(x,w,b))\n",
    "print(np.shape(fc(x,w,b)))\n",
    "\n",
    "print(np.zeros(10))\n"
   ]
  },
  {
   "cell_type": "code",
   "execution_count": 7,
   "metadata": {},
   "outputs": [],
   "source": [
    "def fc_backward(dl_dy, x, w, b, y):\n",
    "    # TO DO\n",
    "    # gamma controls the step size\n",
    "    n = dl_dy.shape[1]\n",
    "    m = x.shape[0]\n",
    "    \n",
    "    dl_dx = dl_dy @ w\n",
    "    \n",
    "    dy_dw = np.zeros((n, n, m))\n",
    "    for i in range(n):\n",
    "        dy_dw[i][i] = x.T\n",
    "#     print(\"dl_dy: \")\n",
    "#     print(dl_dy)\n",
    "#     print(\"dy_dw: \")\n",
    "#     print(dy_dw.shape)\n",
    "#     dl_dw = np.reshape(dl_dy @ dy_dw, (1, 10, 196))\n",
    "    dl_dw = np.matmul(dl_dy, dy_dw)\n",
    "#     print(\"dl_dw: \")\n",
    "#     print(dl_dw[:,0,:].shape)\n",
    "    \n",
    "    dl_db = dl_dy.T\n",
    "    \n",
    "    return dl_dx, dl_dw, dl_db"
   ]
  },
  {
   "cell_type": "code",
   "execution_count": 8,
   "metadata": {},
   "outputs": [],
   "source": [
    "def loss_euclidean(y_tilde, y):\n",
    "    # TO DO\n",
    "    l = np.linalg.norm(y-y_tilde)\n",
    "    dl_dy = (y-y_tilde).T\n",
    "    return l, dl_dy"
   ]
  },
  {
   "cell_type": "code",
   "execution_count": 9,
   "metadata": {},
   "outputs": [
    {
     "name": "stdout",
     "output_type": "stream",
     "text": [
      "[[-0.97767481 -0.41361788  0.42566791 ...  0.58811902 -0.53361874\n",
      "   1.02362578]\n",
      " [-0.07358565 -0.67273664 -0.23195705 ... -0.63481467 -1.46022899\n",
      "  -0.9876995 ]\n",
      " [-0.59682322  0.28299541 -0.21298522 ... -0.48435876 -0.53469929\n",
      "   1.71038828]\n",
      " ...\n",
      " [-0.21661568  0.2559696  -0.35736126 ... -1.46037968  0.75007037\n",
      "  -1.00153708]\n",
      " [ 0.24424525 -1.02643195  1.04886319 ... -0.91425361  0.03282744\n",
      "   1.16198089]\n",
      " [ 0.60481439 -0.28018373  0.24450044 ... -2.18413341 -0.04607595\n",
      "   1.30451001]]\n"
     ]
    }
   ],
   "source": [
    "print(np.random.randn(10,196))"
   ]
  },
  {
   "cell_type": "code",
   "execution_count": 10,
   "metadata": {},
   "outputs": [],
   "source": [
    "def train_slp_linear(mini_batch_x, mini_batch_y):\n",
    "    # TO DO\n",
    "    test = np.ndarray.flatten(mini_batch_x)\n",
    "#     print(mini_batch_y)\n",
    "    print(mini_batch_x.shape)\n",
    "    size = test.shape[0]\n",
    "    print(size/196)\n",
    "    learn_rate = .1\n",
    "    num_iterations = 5000\n",
    "    decay_rate = .01\n",
    "    weights = np.random.randn(10, 196)\n",
    "    print(\"weights: \")\n",
    "    print(weights.shape)\n",
    "    bias = np.zeros((10,1))\n",
    "    k = 1\n",
    "    for i in range(num_iterations):\n",
    "        if i % 1000 == 0:\n",
    "            learn_rate = learn_rate*decay_rate\n",
    "        dL_dw = np.zeros((10, 196))\n",
    "        dL_db = np.zeros((10, 1))\n",
    "        for j in range(mini_batch_x[k].shape[0]):\n",
    "            inp = np.reshape(mini_batch_x[k][j],(196,1))\n",
    "#             print('inp: ')\n",
    "#             print(inp.shape)\n",
    "#             print('weights: ')\n",
    "#             print(weights.shape)\n",
    "#             print('bias: ')\n",
    "#             print(bias.shape)\n",
    "            predict = fc(inp, weights, bias)\n",
    "#             l_pred = np.argmax(predict)\n",
    "#             predict = np.zeros((10,1))\n",
    "#             predict[l_pred]=1\n",
    "#             print('predict: ')\n",
    "#             print((weights @ inp).shape)\n",
    "#             print(np.reshape(mini_batch_y[k][j], (10,1)))\n",
    "            loss, dl_dy = loss_euclidean(predict, np.reshape(mini_batch_y[k][j], (10,1)))\n",
    "#             print(loss)\n",
    "            dl_dx, dl_dw, dl_db = fc_backward(dl_dy, inp, weights, bias, predict)\n",
    "            dL_dw = dL_dw + dl_dw[:,0,:]\n",
    "            dL_db = dL_db + dl_db\n",
    "#         print(loss)\n",
    "        k += 1\n",
    "        if k > mini_batch_x[k].shape[0]:\n",
    "            k = 1\n",
    "        weights = weights - learn_rate*dL_dw/12000\n",
    "        bias = bias - learn_rate*dL_db/12000\n",
    "    \n",
    "    return weights, bias"
   ]
  },
  {
   "cell_type": "code",
   "execution_count": 11,
   "metadata": {
    "scrolled": true
   },
   "outputs": [
    {
     "name": "stdout",
     "output_type": "stream",
     "text": [
      "(375, 32, 196)\n",
      "12000.0\n",
      "weights: \n",
      "(10, 196)\n"
     ]
    }
   ],
   "source": [
    "mnist_train = sio.loadmat('./mnist_train.mat')\n",
    "mnist_test = sio.loadmat('./mnist_test.mat')\n",
    "im_train, label_train = mnist_train['im_train'], mnist_train['label_train']\n",
    "im_test, label_test = mnist_test['im_test'], mnist_test['label_test']\n",
    "batch_size = 32\n",
    "im_train, im_test = im_train / 255.0, im_test / 255.0\n",
    "mini_batch_x, mini_batch_y = get_mini_batch(im_train, label_train, batch_size)\n",
    "w, b = train_slp_linear(mini_batch_x, mini_batch_y)\n",
    "sio.savemat('slp_linear.mat', mdict={'w': w, 'b': b})\n"
   ]
  },
  {
   "cell_type": "code",
   "execution_count": 12,
   "metadata": {},
   "outputs": [
    {
     "data": {
      "image/png": "[encoded data removed]",
      "text/plain": [
       "<Figure size 432x288 with 1 Axes>"
      ]
     },
     "metadata": {
      "needs_background": "light"
     },
     "output_type": "display_data"
    }
   ],
   "source": [
    "acc = 0\n",
    "confusion = np.zeros((10, 10))\n",
    "num_test = im_test.shape[1]\n",
    "for i in range(num_test):\n",
    "    x = im_test[:, [i]]\n",
    "    y = fc(x, w, b)\n",
    "#     print(y.shape)\n",
    "    l_pred = np.argmax(y)\n",
    "    confusion[l_pred, label_test[0, i]] = confusion[l_pred, label_test[0, i]] + 1\n",
    "\n",
    "    if l_pred == label_test[0, i]:\n",
    "        acc = acc + 1\n",
    "accuracy = acc / num_test\n",
    "for i in range(10):\n",
    "    confusion[:, i] = confusion[:, i] / np.sum(confusion[:, i])\n",
    "\n",
    "label_classes = ['0', '1', '2', '3', '4', '5', '6', '7', '8', '9']\n",
    "visualize_confusion_matrix(confusion, accuracy, label_classes, 'Single-layer Linear Perceptron Confusion Matrix')"
   ]
  },
  {
   "cell_type": "code",
   "execution_count": 112,
   "metadata": {},
   "outputs": [],
   "source": [
    "def main_slp_linear():\n",
    "    mnist_train = sio.loadmat('./mnist_train.mat')\n",
    "    mnist_test = sio.loadmat('./mnist_test.mat')\n",
    "    im_train, label_train = mnist_train['im_train'], mnist_train['label_train']\n",
    "    im_test, label_test = mnist_test['im_test'], mnist_test['label_test']\n",
    "    batch_size = 32\n",
    "    im_train, im_test = im_train / 255.0, im_test / 255.0\n",
    "    mini_batch_x, mini_batch_y = get_mini_batch(im_train, label_train, batch_size)\n",
    "    w, b = train_slp_linear(mini_batch_x, mini_batch_y)\n",
    "    sio.savemat('slp_linear.mat', mdict={'w': w, 'b': b})\n",
    "\n",
    "    acc = 0\n",
    "    confusion = np.zeros((10, 10))\n",
    "    num_test = im_test.shape[1]\n",
    "    for i in range(num_test):\n",
    "        x = im_test[:, [i]]\n",
    "#         print(x.shape)\n",
    "        y = fc(x, w, b)\n",
    "        print(y)\n",
    "        l_pred = np.argmax(y)\n",
    "        confusion[l_pred, label_test[0, i]] = confusion[l_pred, label_test[0, i]] + 1\n",
    "\n",
    "        if l_pred == label_test[0, i]:\n",
    "            acc = acc + 1\n",
    "    accuracy = acc / num_test\n",
    "    for i in range(10):\n",
    "        confusion[:, i] = confusion[:, i] / np.sum(confusion[:, i])\n",
    "\n",
    "    label_classes = ['0', '1', '2', '3', '4', '5', '6', '7', '8', '9']\n",
    "    visualize_confusion_matrix(confusion, accuracy, label_classes, 'Single-layer Linear Perceptron Confusion Matrix')"
   ]
  }
 ],
 "metadata": {
  "kernelspec": {
   "display_name": "Python 3",
   "language": "python",
   "name": "python3"
  },
  "language_info": {
   "codemirror_mode": {
    "name": "ipython",
    "version": 3
   },
   "file_extension": ".py",
   "mimetype": "text/x-python",
   "name": "python",
   "nbconvert_exporter": "python",
   "pygments_lexer": "ipython3",
   "version": "3.6.7"
  }
 },
 "nbformat": 4,
 "nbformat_minor": 4
}
